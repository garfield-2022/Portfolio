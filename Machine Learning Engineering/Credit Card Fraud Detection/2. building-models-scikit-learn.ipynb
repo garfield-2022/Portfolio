{
 "cells": [
  {
   "cell_type": "code",
   "execution_count": 1,
   "id": "c9dc2eb4",
   "metadata": {},
   "outputs": [],
   "source": [
    "import numpy as np\n",
    "import pandas as pd\n",
    "import matplotlib.pyplot as plt\n",
    "\n",
    "from sklearn.model_selection import train_test_split \n",
    "from sklearn.model_selection import cross_validate\n",
    "from sklearn.preprocessing import StandardScaler \n",
    "from imblearn.over_sampling import SMOTE\n",
    "from imblearn.pipeline import make_pipeline"
   ]
  },
  {
   "cell_type": "code",
   "execution_count": 2,
   "id": "e119c824",
   "metadata": {},
   "outputs": [],
   "source": [
    "from sklearn.linear_model import LogisticRegression"
   ]
  },
  {
   "cell_type": "code",
   "execution_count": 3,
   "id": "1cb71c10",
   "metadata": {},
   "outputs": [],
   "source": [
    "from sklearn.metrics import balanced_accuracy_score\n",
    "from sklearn.metrics import PrecisionRecallDisplay\n",
    "from sklearn.metrics import precision_recall_curve\n",
    "from sklearn.metrics import f1_score\n",
    "from sklearn.metrics import auc\n",
    "from sklearn.metrics import RocCurveDisplay"
   ]
  },
  {
   "cell_type": "code",
   "execution_count": 4,
   "id": "996c1c7e",
   "metadata": {},
   "outputs": [],
   "source": [
    "data_path = 'creditcard.csv'\n",
    "df = pd.read_csv(data_path)"
   ]
  },
  {
   "cell_type": "code",
   "execution_count": 5,
   "id": "9b890ea7",
   "metadata": {},
   "outputs": [],
   "source": [
    "# Next we will split the new dataset into Features and Target\n",
    "X = df.drop(columns=\"Class\", axis=1)\n",
    "y = df[\"Class\"]"
   ]
  },
  {
   "cell_type": "code",
   "execution_count": 6,
   "id": "9681f697",
   "metadata": {},
   "outputs": [
    {
     "data": {
      "text/plain": [
       "(284807, 30)"
      ]
     },
     "execution_count": 6,
     "metadata": {},
     "output_type": "execute_result"
    }
   ],
   "source": [
    "X.shape"
   ]
  },
  {
   "cell_type": "code",
   "execution_count": 7,
   "id": "0426441b",
   "metadata": {},
   "outputs": [
    {
     "data": {
      "text/plain": [
       "(284807,)"
      ]
     },
     "execution_count": 7,
     "metadata": {},
     "output_type": "execute_result"
    }
   ],
   "source": [
    "y.shape"
   ]
  },
  {
   "cell_type": "code",
   "execution_count": 8,
   "id": "27e91de6",
   "metadata": {},
   "outputs": [
    {
     "name": "stdout",
     "output_type": "stream",
     "text": [
      "Training sets:\n",
      "X_train: (227845, 30) y_train:(227845,)\n",
      "\n",
      "Testing sets:\n",
      "X_test: (56962, 30) y_test:(56962,)\n"
     ]
    }
   ],
   "source": [
    "# Split the new dataset into training and testing parts\n",
    "X_train, X_test, y_train, y_test = train_test_split(X, y, test_size = 0.2, stratify=y, random_state=0)\n",
    "\n",
    "print(\"Training sets:\\nX_train: {} y_train:{}\".format(X_train.shape, y_train.shape))\n",
    "print(\"\\nTesting sets:\\nX_test: {} y_test:{}\".format(X_test.shape, y_test.shape))"
   ]
  },
  {
   "cell_type": "code",
   "execution_count": 9,
   "id": "e7e71e2b",
   "metadata": {},
   "outputs": [],
   "source": [
    "# fit the scaler on the entire data frame so that it standardizes all of the data in the same way. \n",
    "scaler = StandardScaler()\n",
    "scaler.fit(X)\n",
    "\n",
    "X_train = scaler.transform(X_train)\n",
    "X_test = scaler.transform(X_test)"
   ]
  },
  {
   "cell_type": "markdown",
   "id": "d07b0188",
   "metadata": {},
   "source": [
    "# Logistic Regression as the classification algorithm."
   ]
  },
  {
   "cell_type": "code",
   "execution_count": 10,
   "id": "bbcdcdcb",
   "metadata": {},
   "outputs": [],
   "source": [
    "# We will use the SMOTE sampling technique, because the basic implementation of SMOTE will not make any distinction \n",
    "# between easy and hard samples to be classified using the nearest neighbors rule.\n",
    "# https://imbalanced-learn.org/stable/common_pitfalls.html\n",
    "\n",
    "model = make_pipeline(SMOTE(random_state=0), LogisticRegression())"
   ]
  },
  {
   "cell_type": "code",
   "execution_count": 11,
   "id": "3513652a",
   "metadata": {},
   "outputs": [
    {
     "name": "stdout",
     "output_type": "stream",
     "text": [
      "Balanced accuracy mean:0.948\n"
     ]
    }
   ],
   "source": [
    "cv_results = cross_validate(model, X_train, y_train, scoring=\"balanced_accuracy\",\n",
    "    return_train_score=True, return_estimator=True, n_jobs=-1)\n",
    "    \n",
    "print(f\"Balanced accuracy mean:\" f\"{cv_results['test_score'].mean():.3f}\")    "
   ]
  },
  {
   "cell_type": "code",
   "execution_count": 12,
   "id": "6b15c861",
   "metadata": {},
   "outputs": [
    {
     "name": "stdout",
     "output_type": "stream",
     "text": [
      "Balanced accuracy mean:0.930\n",
      "Logistic: f1 score=0.109 auc score=0.739\n"
     ]
    }
   ],
   "source": [
    "accuracy_scores = []\n",
    "f1_scores = []\n",
    "auc_scores = []\n",
    "\n",
    "for fold_id, cv_model in enumerate(cv_results[\"estimator\"]):\n",
    "    \n",
    "    y_pred = cv_model.predict(X_test)\n",
    "    \n",
    "    accuracy_scores.append(balanced_accuracy_score(y_test, y_pred))\n",
    "    f1_scores.append(f1_score(y_test, y_pred))\n",
    "    \n",
    "    # predict probabilities    \n",
    "    y_probs = cv_model.predict_proba(X_test)\n",
    "    y_probs = y_probs[:, 1]\n",
    "    \n",
    "    precision, recall, thresholds = precision_recall_curve(y_test, y_probs)\n",
    "\n",
    "    auc_scores.append(auc(recall, precision))\n",
    "\n",
    "# summarize scores\n",
    "print(f\"Balanced accuracy mean:\" f\"{np.mean(accuracy_scores):.3f}\")\n",
    "\n",
    "print('Logistic: f1 score=%.3f auc score=%.3f' % (np.mean(f1_scores), np.mean(auc_scores)))    "
   ]
  },
  {
   "cell_type": "markdown",
   "id": "539f2a6c",
   "metadata": {},
   "source": [
    "# Hyperparameter tuning"
   ]
  },
  {
   "cell_type": "code",
   "execution_count": 13,
   "id": "c2ddfef4",
   "metadata": {},
   "outputs": [
    {
     "data": {
      "text/plain": [
       "{'C': 1.0,\n",
       " 'class_weight': None,\n",
       " 'dual': False,\n",
       " 'fit_intercept': True,\n",
       " 'intercept_scaling': 1,\n",
       " 'l1_ratio': None,\n",
       " 'max_iter': 100,\n",
       " 'multi_class': 'auto',\n",
       " 'n_jobs': None,\n",
       " 'penalty': 'l2',\n",
       " 'random_state': None,\n",
       " 'solver': 'lbfgs',\n",
       " 'tol': 0.0001,\n",
       " 'verbose': 0,\n",
       " 'warm_start': False}"
      ]
     },
     "execution_count": 13,
     "metadata": {},
     "output_type": "execute_result"
    }
   ],
   "source": [
    "# Tune Hyperparameters for Classification Machine Learning Algorithms \n",
    "# https://machinelearningmastery.com/hyperparameters-for-classification-machine-learning-algorithms/\n",
    "LogisticRegression().get_params()"
   ]
  },
  {
   "cell_type": "code",
   "execution_count": 14,
   "id": "81078d3d",
   "metadata": {},
   "outputs": [],
   "source": [
    "#solvers = ['newton-cg', 'lbfgs', 'liblinear']\n",
    "c_values = [100, 10, 1.0, 0.1, 0.01]"
   ]
  },
  {
   "cell_type": "code",
   "execution_count": 15,
   "id": "cf9187d8",
   "metadata": {},
   "outputs": [
    {
     "name": "stdout",
     "output_type": "stream",
     "text": [
      "C:100.000\n",
      "Balanced accuracy mean:0.930\n",
      "Logistic: f1 score=0.109 auc score=0.739\n",
      "C:10.000\n",
      "Balanced accuracy mean:0.930\n",
      "Logistic: f1 score=0.109 auc score=0.739\n",
      "C:1.000\n",
      "Balanced accuracy mean:0.930\n",
      "Logistic: f1 score=0.109 auc score=0.739\n",
      "C:0.100\n",
      "Balanced accuracy mean:0.931\n",
      "Logistic: f1 score=0.109 auc score=0.735\n",
      "C:0.010\n",
      "Balanced accuracy mean:0.931\n",
      "Logistic: f1 score=0.111 auc score=0.715\n"
     ]
    }
   ],
   "source": [
    "for C in c_values:\n",
    "    \n",
    "    model = make_pipeline(SMOTE(random_state=0), LogisticRegression(C=C))\n",
    "    \n",
    "    cv_results = cross_validate(model, X_train, y_train, scoring=\"balanced_accuracy\",\n",
    "    return_train_score=True, return_estimator=True, n_jobs=-1)\n",
    "    \n",
    "    accuracy_scores = []\n",
    "    f1_scores = []\n",
    "    auc_scores = []\n",
    "\n",
    "    for fold_id, cv_model in enumerate(cv_results[\"estimator\"]):\n",
    "        \n",
    "        y_pred = cv_model.predict(X_test)\n",
    "\n",
    "        accuracy_scores.append(balanced_accuracy_score(y_test, y_pred))\n",
    "        f1_scores.append(f1_score(y_test, y_pred))\n",
    "        \n",
    "        # predict probabilities    \n",
    "        y_probs = cv_model.predict_proba(X_test)\n",
    "        y_probs = y_probs[:, 1]\n",
    "    \n",
    "        precision, recall, thresholds = precision_recall_curve(y_test, y_probs)\n",
    "\n",
    "        auc_scores.append(auc(recall, precision))\n",
    "        \n",
    "    print(f\"C:\" f\"{C:.3f}\")\n",
    "    print(f\"Balanced accuracy mean:\" f\"{np.mean(accuracy_scores):.3f}\")\n",
    "    print('Logistic: f1 score=%.3f auc score=%.3f' % (np.mean(f1_scores), np.mean(auc_scores)))    "
   ]
  },
  {
   "cell_type": "markdown",
   "id": "640a81c3",
   "metadata": {},
   "source": [
    "# ROC vs. Precision-Recall Curve"
   ]
  },
  {
   "cell_type": "code",
   "execution_count": 16,
   "id": "23d12fac",
   "metadata": {},
   "outputs": [
    {
     "data": {
      "image/png": "[encoded data removed]",
      "text/plain": [
       "<Figure size 640x480 with 1 Axes>"
      ]
     },
     "metadata": {},
     "output_type": "display_data"
    }
   ],
   "source": [
    "# ROC curves should be used when there are roughly equal numbers of observations for each class.\n",
    "# Precision-Recall curves should be used when there is a moderate to large class imbalance.\n",
    "# https://machinelearningmastery.com/roc-curves-and-precision-recall-curves-for-classification-in-python/\n",
    "\n",
    "display = PrecisionRecallDisplay.from_estimator(\n",
    "    cv_model, X_test, y_test, name=\"LogisticRegression\")\n",
    "\n",
    "_ = display.ax_.set_title(\"2-class Precision-Recall curve\")"
   ]
  },
  {
   "cell_type": "code",
   "execution_count": 17,
   "id": "96c35f6d",
   "metadata": {},
   "outputs": [
    {
     "data": {
      "text/plain": [
       "<sklearn.metrics._plot.roc_curve.RocCurveDisplay at 0x7fb806c99450>"
      ]
     },
     "execution_count": 17,
     "metadata": {},
     "output_type": "execute_result"
    },
    {
     "data": {
      "image/png": "[encoded data removed]",
      "text/plain": [
       "<Figure size 640x480 with 1 Axes>"
      ]
     },
     "metadata": {},
     "output_type": "display_data"
    }
   ],
   "source": [
    "# ROC curve\n",
    "RocCurveDisplay.from_estimator(cv_model, X_test, y_test, name=\"LogisticRegression\")"
   ]
  },
  {
   "cell_type": "code",
   "execution_count": null,
   "id": "3e63c034",
   "metadata": {},
   "outputs": [],
   "source": []
  }
 ],
 "metadata": {
  "kernelspec": {
   "display_name": "Python 3 (ipykernel)",
   "language": "python",
   "name": "python3"
  },
  "language_info": {
   "codemirror_mode": {
    "name": "ipython",
    "version": 3
   },
   "file_extension": ".py",
   "mimetype": "text/x-python",
   "name": "python",
   "nbconvert_exporter": "python",
   "pygments_lexer": "ipython3",
   "version": "3.10.9"
  }
 },
 "nbformat": 4,
 "nbformat_minor": 5
}
