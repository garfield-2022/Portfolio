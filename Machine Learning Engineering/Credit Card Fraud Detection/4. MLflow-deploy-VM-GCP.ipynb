{
 "cells": [
  {
   "cell_type": "code",
   "execution_count": 1,
   "id": "67bf2b9c",
   "metadata": {},
   "outputs": [],
   "source": [
    "import numpy as np\n",
    "import pandas as pd\n",
    "import matplotlib.pyplot as plt\n",
    "\n",
    "from sklearn.preprocessing import StandardScaler \n",
    "from sklearn.metrics import balanced_accuracy_score\n",
    "from sklearn.metrics import f1_score\n",
    "\n",
    "import json\n",
    "import requests"
   ]
  },
  {
   "cell_type": "code",
   "execution_count": 2,
   "id": "dac444b9",
   "metadata": {},
   "outputs": [],
   "source": [
    "data_path = 'creditcard.csv'\n",
    "df = pd.read_csv(data_path)"
   ]
  },
  {
   "cell_type": "code",
   "execution_count": 3,
   "id": "3c44b5cc",
   "metadata": {},
   "outputs": [
    {
     "data": {
      "text/html": [
       "<style>#sk-container-id-1 {color: black;background-color: white;}#sk-container-id-1 pre{padding: 0;}#sk-container-id-1 div.sk-toggleable {background-color: white;}#sk-container-id-1 label.sk-toggleable__label {cursor: pointer;display: block;width: 100%;margin-bottom: 0;padding: 0.3em;box-sizing: border-box;text-align: center;}#sk-container-id-1 label.sk-toggleable__label-arrow:before {content: \"▸\";float: left;margin-right: 0.25em;color: #696969;}#sk-container-id-1 label.sk-toggleable__label-arrow:hover:before {color: black;}#sk-container-id-1 div.sk-estimator:hover label.sk-toggleable__label-arrow:before {color: black;}#sk-container-id-1 div.sk-toggleable__content {max-height: 0;max-width: 0;overflow: hidden;text-align: left;background-color: #f0f8ff;}#sk-container-id-1 div.sk-toggleable__content pre {margin: 0.2em;color: black;border-radius: 0.25em;background-color: #f0f8ff;}#sk-container-id-1 input.sk-toggleable__control:checked~div.sk-toggleable__content {max-height: 200px;max-width: 100%;overflow: auto;}#sk-container-id-1 input.sk-toggleable__control:checked~label.sk-toggleable__label-arrow:before {content: \"▾\";}#sk-container-id-1 div.sk-estimator input.sk-toggleable__control:checked~label.sk-toggleable__label {background-color: #d4ebff;}#sk-container-id-1 div.sk-label input.sk-toggleable__control:checked~label.sk-toggleable__label {background-color: #d4ebff;}#sk-container-id-1 input.sk-hidden--visually {border: 0;clip: rect(1px 1px 1px 1px);clip: rect(1px, 1px, 1px, 1px);height: 1px;margin: -1px;overflow: hidden;padding: 0;position: absolute;width: 1px;}#sk-container-id-1 div.sk-estimator {font-family: monospace;background-color: #f0f8ff;border: 1px dotted black;border-radius: 0.25em;box-sizing: border-box;margin-bottom: 0.5em;}#sk-container-id-1 div.sk-estimator:hover {background-color: #d4ebff;}#sk-container-id-1 div.sk-parallel-item::after {content: \"\";width: 100%;border-bottom: 1px solid gray;flex-grow: 1;}#sk-container-id-1 div.sk-label:hover label.sk-toggleable__label {background-color: #d4ebff;}#sk-container-id-1 div.sk-serial::before {content: \"\";position: absolute;border-left: 1px solid gray;box-sizing: border-box;top: 0;bottom: 0;left: 50%;z-index: 0;}#sk-container-id-1 div.sk-serial {display: flex;flex-direction: column;align-items: center;background-color: white;padding-right: 0.2em;padding-left: 0.2em;position: relative;}#sk-container-id-1 div.sk-item {position: relative;z-index: 1;}#sk-container-id-1 div.sk-parallel {display: flex;align-items: stretch;justify-content: center;background-color: white;position: relative;}#sk-container-id-1 div.sk-item::before, #sk-container-id-1 div.sk-parallel-item::before {content: \"\";position: absolute;border-left: 1px solid gray;box-sizing: border-box;top: 0;bottom: 0;left: 50%;z-index: -1;}#sk-container-id-1 div.sk-parallel-item {display: flex;flex-direction: column;z-index: 1;position: relative;background-color: white;}#sk-container-id-1 div.sk-parallel-item:first-child::after {align-self: flex-end;width: 50%;}#sk-container-id-1 div.sk-parallel-item:last-child::after {align-self: flex-start;width: 50%;}#sk-container-id-1 div.sk-parallel-item:only-child::after {width: 0;}#sk-container-id-1 div.sk-dashed-wrapped {border: 1px dashed gray;margin: 0 0.4em 0.5em 0.4em;box-sizing: border-box;padding-bottom: 0.4em;background-color: white;}#sk-container-id-1 div.sk-label label {font-family: monospace;font-weight: bold;display: inline-block;line-height: 1.2em;}#sk-container-id-1 div.sk-label-container {text-align: center;}#sk-container-id-1 div.sk-container {/* jupyter's `normalize.less` sets `[hidden] { display: none; }` but bootstrap.min.css set `[hidden] { display: none !important; }` so we also need the `!important` here to be able to override the default hidden behavior on the sphinx rendered scikit-learn.org. See: https://github.com/scikit-learn/scikit-learn/issues/21755 */display: inline-block !important;position: relative;}#sk-container-id-1 div.sk-text-repr-fallback {display: none;}</style><div id=\"sk-container-id-1\" class=\"sk-top-container\"><div class=\"sk-text-repr-fallback\"><pre>StandardScaler()</pre><b>In a Jupyter environment, please rerun this cell to show the HTML representation or trust the notebook. <br />On GitHub, the HTML representation is unable to render, please try loading this page with nbviewer.org.</b></div><div class=\"sk-container\" hidden><div class=\"sk-item\"><div class=\"sk-estimator sk-toggleable\"><input class=\"sk-toggleable__control sk-hidden--visually\" id=\"sk-estimator-id-1\" type=\"checkbox\" checked><label for=\"sk-estimator-id-1\" class=\"sk-toggleable__label sk-toggleable__label-arrow\">StandardScaler</label><div class=\"sk-toggleable__content\"><pre>StandardScaler()</pre></div></div></div></div></div>"
      ],
      "text/plain": [
       "StandardScaler()"
      ]
     },
     "execution_count": 3,
     "metadata": {},
     "output_type": "execute_result"
    }
   ],
   "source": [
    "# querying with scaling\n",
    "scaler = StandardScaler()\n",
    "scaler.fit(df.drop(columns=\"Class\", axis=1))"
   ]
  },
  {
   "cell_type": "code",
   "execution_count": 4,
   "id": "b9f33c95",
   "metadata": {},
   "outputs": [],
   "source": [
    "# transform data\n",
    "scaled_selection = scaler.transform(df.iloc[:80].drop([\"Class\"], axis=1))"
   ]
  },
  {
   "cell_type": "code",
   "execution_count": 5,
   "id": "ffbb6a50",
   "metadata": {},
   "outputs": [],
   "source": [
    "# select 80 values from your data frame to query your model with\n",
    "# Create dictionary with pandas DataFrame in the split orientation\n",
    "json_data = {\"dataframe_split\": pd.DataFrame(scaled_selection).to_dict(orient=\"split\")}"
   ]
  },
  {
   "cell_type": "code",
   "execution_count": 6,
   "id": "b6af3ed9",
   "metadata": {},
   "outputs": [],
   "source": [
    "# run the following command in Google Cloud Shell:\n",
    "# mlflow models serve -m gs://ccfd-mlops-storage/mlruns/0/30316a6d471d41259cbd2910917e1593/artifacts/log_reg_model -h 10.142.0.2\n",
    "# query the model from Google Cloud Virtual Machine through external IP address.\n",
    "response = requests.post(\"http://35.196.11.25:5000/invocations\", json=json_data)"
   ]
  },
  {
   "cell_type": "code",
   "execution_count": 7,
   "id": "cf874678",
   "metadata": {},
   "outputs": [
    {
     "data": {
      "text/html": [
       "<div>\n",
       "<style scoped>\n",
       "    .dataframe tbody tr th:only-of-type {\n",
       "        vertical-align: middle;\n",
       "    }\n",
       "\n",
       "    .dataframe tbody tr th {\n",
       "        vertical-align: top;\n",
       "    }\n",
       "\n",
       "    .dataframe thead th {\n",
       "        text-align: right;\n",
       "    }\n",
       "</style>\n",
       "<table border=\"1\" class=\"dataframe\">\n",
       "  <thead>\n",
       "    <tr style=\"text-align: right;\">\n",
       "      <th></th>\n",
       "      <th>0</th>\n",
       "    </tr>\n",
       "  </thead>\n",
       "  <tbody>\n",
       "    <tr>\n",
       "      <th>0</th>\n",
       "      <td>0</td>\n",
       "    </tr>\n",
       "    <tr>\n",
       "      <th>1</th>\n",
       "      <td>0</td>\n",
       "    </tr>\n",
       "    <tr>\n",
       "      <th>2</th>\n",
       "      <td>0</td>\n",
       "    </tr>\n",
       "    <tr>\n",
       "      <th>3</th>\n",
       "      <td>0</td>\n",
       "    </tr>\n",
       "    <tr>\n",
       "      <th>4</th>\n",
       "      <td>0</td>\n",
       "    </tr>\n",
       "    <tr>\n",
       "      <th>...</th>\n",
       "      <td>...</td>\n",
       "    </tr>\n",
       "    <tr>\n",
       "      <th>75</th>\n",
       "      <td>0</td>\n",
       "    </tr>\n",
       "    <tr>\n",
       "      <th>76</th>\n",
       "      <td>0</td>\n",
       "    </tr>\n",
       "    <tr>\n",
       "      <th>77</th>\n",
       "      <td>0</td>\n",
       "    </tr>\n",
       "    <tr>\n",
       "      <th>78</th>\n",
       "      <td>0</td>\n",
       "    </tr>\n",
       "    <tr>\n",
       "      <th>79</th>\n",
       "      <td>0</td>\n",
       "    </tr>\n",
       "  </tbody>\n",
       "</table>\n",
       "<p>80 rows × 1 columns</p>\n",
       "</div>"
      ],
      "text/plain": [
       "    0\n",
       "0   0\n",
       "1   0\n",
       "2   0\n",
       "3   0\n",
       "4   0\n",
       ".. ..\n",
       "75  0\n",
       "76  0\n",
       "77  0\n",
       "78  0\n",
       "79  0\n",
       "\n",
       "[80 rows x 1 columns]"
      ]
     },
     "execution_count": 7,
     "metadata": {},
     "output_type": "execute_result"
    }
   ],
   "source": [
    "preds = pd.DataFrame(response.json()['predictions'])\n",
    "preds"
   ]
  },
  {
   "cell_type": "code",
   "execution_count": 8,
   "id": "a21c1e6d",
   "metadata": {},
   "outputs": [
    {
     "name": "stdout",
     "output_type": "stream",
     "text": [
      "Balanced_acc 0.9375\n",
      "f1 score 0.0\n"
     ]
    },
    {
     "name": "stderr",
     "output_type": "stream",
     "text": [
      "/Users/yingfan/anaconda3/lib/python3.10/site-packages/sklearn/metrics/_classification.py:2184: UserWarning: y_pred contains classes not in y_true\n",
      "  warnings.warn(\"y_pred contains classes not in y_true\")\n",
      "/var/folders/k1/cgm0wsnd5173q6n2ps293r080000gp/T/ipykernel_15501/153937322.py:4: SettingWithCopyWarning: \n",
      "A value is trying to be set on a copy of a slice from a DataFrame\n",
      "\n",
      "See the caveats in the documentation: https://pandas.pydata.org/pandas-docs/stable/user_guide/indexing.html#returning-a-view-versus-a-copy\n",
      "  y_true.iloc[-1] = 1\n"
     ]
    }
   ],
   "source": [
    "y_true = df.iloc[:80].Class\n",
    "balanced_acc = balanced_accuracy_score(y_true, preds)\n",
    "\n",
    "y_true.iloc[-1] = 1\n",
    "f1score = f1_score(y_true, preds)\n",
    "\n",
    "print(\"Balanced_acc\", balanced_acc)\n",
    "print(\"f1 score\", f1score)"
   ]
  },
  {
   "cell_type": "code",
   "execution_count": 9,
   "id": "b2e89a82",
   "metadata": {},
   "outputs": [
    {
     "name": "stdout",
     "output_type": "stream",
     "text": [
      "Batch 0 - Completed\n",
      "Batch 1 - Completed\n",
      "Batch 2 - Completed\n",
      "Batch 3 - Completed\n",
      "Batch 4 - Completed\n",
      "Batch 5 - Completed\n",
      "Batch 6 - Completed\n",
      "Batch 7 - Completed\n",
      "Batch 8 - Completed\n",
      "Batch 9 - Completed\n",
      "Batch 10 - Completed\n",
      "Batch 11 - Completed\n",
      "Batch 12 - Completed\n",
      "Batch 13 - Completed\n",
      "Batch 14 - Completed\n",
      "Batch 15 - Completed\n",
      "Batch 16 - Completed\n",
      "Batch 17 - Completed\n",
      "Batch 18 - Completed\n",
      "Batch 19 - Completed\n",
      "Batch 20 - Completed\n",
      "Batch 21 - Completed\n",
      "Batch 22 - Completed\n",
      "Batch 23 - Completed\n",
      "Batch 24 - Completed\n",
      "Batch 25 - Completed\n",
      "Batch 26 - Completed\n",
      "Batch 27 - Completed\n",
      "Batch 28 - Completed\n",
      "Batch 29 - Completed\n",
      "Batch 30 - Completed\n",
      "Batch 31 - Completed\n",
      "Batch 32 - Completed\n",
      "Batch 33 - Completed\n",
      "Batch 34 - Completed\n",
      "Batch 35 - Completed\n",
      "Batch 36 - Completed\n",
      "Batch 37 - Completed\n",
      "Batch 38 - Completed\n",
      "Batch 39 - Completed\n",
      "Batch 40 - Completed\n",
      "Batch 41 - Completed\n",
      "Batch 42 - Completed\n",
      "Batch 43 - Completed\n",
      "Batch 44 - Completed\n",
      "Batch 45 - Completed\n",
      "Batch 46 - Completed\n",
      "Batch 47 - Completed\n",
      "Batch 48 - Completed\n",
      "Batch 49 - Completed\n",
      "Batch 50 - Completed\n",
      "Batch 51 - Completed\n",
      "Batch 52 - Completed\n",
      "Batch 53 - Completed\n",
      "Batch 54 - Completed\n",
      "Batch 55 - Completed\n",
      "Batch 56 - Completed\n",
      "Batch 57 - Completed\n",
      "Batch 58 - Completed\n",
      "Batch 59 - Completed\n",
      "Batch 60 - Completed\n",
      "Batch 61 - Completed\n",
      "Batch 62 - Completed\n",
      "Batch 63 - Completed\n",
      "Batch 64 - Completed\n",
      "Batch 65 - Completed\n",
      "Batch 66 - Completed\n",
      "Batch 67 - Completed\n",
      "Batch 68 - Completed\n",
      "Batch 69 - Completed\n",
      "Batch 70 - Completed\n",
      "Batch 71 - Completed\n",
      "Batch 72 - Completed\n",
      "Batch 73 - Completed\n",
      "Batch 74 - Completed\n",
      "Batch 75 - Completed\n",
      "Batch 76 - Completed\n",
      "Batch 77 - Completed\n",
      "Batch 78 - Completed\n",
      "Batch 79 - Completed\n",
      "Batch 80 - Completed\n",
      "Batch 81 - Completed\n",
      "Batch 82 - Completed\n",
      "Batch 83 - Completed\n",
      "Batch 84 - Completed\n",
      "Batch 85 - Completed\n",
      "Batch 86 - Completed\n",
      "Batch 87 - Completed\n",
      "Batch 88 - Completed\n",
      "Batch 89 - Completed\n",
      "Batch 90 - Completed\n",
      "Batch 91 - Completed\n",
      "Batch 92 - Completed\n",
      "Batch 93 - Completed\n",
      "Batch 94 - Completed\n",
      "Batch 95 - Completed\n",
      "Batch 96 - Completed\n",
      "Batch 97 - Completed\n",
      "Batch 98 - Completed\n",
      "Batch 99 - Completed\n",
      "Balanced_acc 0.9644662460689548\n",
      "f1 score 0.16077170418006428\n"
     ]
    }
   ],
   "source": [
    "test = df.iloc[:8000]\n",
    "true = test.Class\n",
    "test = scaler.transform(test.drop([\"Class\"], axis=1))\n",
    "preds = []\n",
    "\n",
    "batch_size = 80\n",
    "for f in range(100):\n",
    "    print(f\"Batch {f}\", end=\" - \")\n",
    "    \n",
    "    sample = pd.DataFrame(test[f*batch_size: (f+1)*batch_size]).to_dict(orient=\"split\")\n",
    "    \n",
    "    json_data = {\"dataframe_split\": sample}\n",
    "    response = requests.post(\"http://35.196.11.25:5000/invocations\", json=json_data)\n",
    "    resp = pd.DataFrame(response.json()['predictions'])\n",
    "    preds = np.concatenate((preds, resp[0]))\n",
    "    \n",
    "    print(\"Completed\")\n",
    "    \n",
    "balanced_acc = balanced_accuracy_score(true, preds)\n",
    "f1score = f1_score(true, preds)\n",
    "\n",
    "print(\"Balanced_acc\", balanced_acc)\n",
    "print(\"f1 score\", f1score)"
   ]
  },
  {
   "cell_type": "code",
   "execution_count": null,
   "id": "d917d18c",
   "metadata": {},
   "outputs": [],
   "source": []
  }
 ],
 "metadata": {
  "kernelspec": {
   "display_name": "Python 3 (ipykernel)",
   "language": "python",
   "name": "python3"
  },
  "language_info": {
   "codemirror_mode": {
    "name": "ipython",
    "version": 3
   },
   "file_extension": ".py",
   "mimetype": "text/x-python",
   "name": "python",
   "nbconvert_exporter": "python",
   "pygments_lexer": "ipython3",
   "version": "3.10.9"
  }
 },
 "nbformat": 4,
 "nbformat_minor": 5
}
